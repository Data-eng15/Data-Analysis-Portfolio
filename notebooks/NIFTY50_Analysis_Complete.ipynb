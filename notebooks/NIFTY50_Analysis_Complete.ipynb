{
 "cells": [
  {
   "cell_type": "markdown",
   "id": "11dbab3c",
   "metadata": {},
   "source": [
    "# 📊 NIFTY50 Stock Market Analysis\n",
    "This notebook performs complete EDA, trend plotting, and indicator analysis for NIFTY50 stocks (2000–2021)."
   ]
  },
  {
   "cell_type": "code",
   "execution_count": null,
   "id": "dc445dea",
   "metadata": {},
   "outputs": [],
   "source": [
    "import pandas as pd\n",
    "import matplotlib.pyplot as plt\n",
    "import seaborn as sns\n",
    "\n",
    "# Optional: interactive plotting\n",
    "# %matplotlib inline\n"
   ]
  },
  {
   "cell_type": "markdown",
   "id": "6edbdb82",
   "metadata": {},
   "source": [
    "## 📥 Load and Clean Data"
   ]
  },
  {
   "cell_type": "code",
   "execution_count": null,
   "id": "41b2b478",
   "metadata": {},
   "outputs": [],
   "source": [
    "def load_and_clean_data(filepath):\n",
    "    df = pd.read_csv(filepath, parse_dates=['Date'])\n",
    "    df = df[df['Series'] == 'EQ']\n",
    "    df.sort_values(by=['Symbol', 'Date'], inplace=True)\n",
    "    df.reset_index(drop=True, inplace=True)\n",
    "\n",
    "    numeric_cols = ['Prev Close', 'Open', 'High', 'Low', 'Last', 'Close',\n",
    "                    'VWAP', 'Volume', 'Turnover', 'Trades', 'Deliverable Volume', '%Deliverble']\n",
    "    df[numeric_cols] = df[numeric_cols].apply(pd.to_numeric, errors='coerce')\n",
    "    df.dropna(inplace=True)\n",
    "    return df\n",
    "\n",
    "df = load_and_clean_data('../data/NIFTY50_all.csv')\n",
    "df.head()\n"
   ]
  },
  {
   "cell_type": "markdown",
   "id": "e2afd614",
   "metadata": {},
   "source": [
    "## 📈 Add Technical Indicators (MA, RSI, Bollinger Bands)"
   ]
  },
  {
   "cell_type": "code",
   "execution_count": null,
   "id": "8225b887",
   "metadata": {},
   "outputs": [],
   "source": [
    "def moving_averages(df, windows=[50, 200]):\n",
    "    for window in windows:\n",
    "        df[f\"MA_{window}\"] = df.groupby('Symbol')['Close'].transform(lambda x: x.rolling(window).mean())\n",
    "    return df\n",
    "\n",
    "def rsi(df, window=14):\n",
    "    delta = df['Close'].diff()\n",
    "    gain = delta.clip(lower=0)\n",
    "    loss = -delta.clip(upper=0)\n",
    "    avg_gain = gain.rolling(window).mean()\n",
    "    avg_loss = loss.rolling(window).mean()\n",
    "    rs = avg_gain / avg_loss\n",
    "    df['RSI'] = 100 - (100 / (1 + rs))\n",
    "    return df\n",
    "\n",
    "def bollinger_bands(df, window=20):\n",
    "    ma = df['Close'].rolling(window).mean()\n",
    "    std = df['Close'].rolling(window).std()\n",
    "    df['Bollinger_Upper'] = ma + 2*std\n",
    "    df['Bollinger_Lower'] = ma - 2*std\n",
    "    return df\n",
    "\n",
    "df = moving_averages(df)\n",
    "df = rsi(df)\n",
    "df = bollinger_bands(df)\n"
   ]
  },
  {
   "cell_type": "markdown",
   "id": "36c4abcb",
   "metadata": {},
   "source": [
    "## 📉 Trend and Indicator Visualization"
   ]
  },
  {
   "cell_type": "code",
   "execution_count": null,
   "id": "eee68af8",
   "metadata": {},
   "outputs": [],
   "source": [
    "def plot_stock_trend(df, symbol):\n",
    "    stock_df = df[df['Symbol'] == symbol]\n",
    "    plt.figure(figsize=(14, 6))\n",
    "    plt.plot(stock_df['Date'], stock_df['Close'], label='Close')\n",
    "    if 'MA_50' in stock_df.columns:\n",
    "        plt.plot(stock_df['Date'], stock_df['MA_50'], label='50-Day MA')\n",
    "    if 'MA_200' in stock_df.columns:\n",
    "        plt.plot(stock_df['Date'], stock_df['MA_200'], label='200-Day MA')\n",
    "    if 'Bollinger_Upper' in stock_df.columns:\n",
    "        plt.plot(stock_df['Date'], stock_df['Bollinger_Upper'], linestyle='--', label='Bollinger Upper')\n",
    "        plt.plot(stock_df['Date'], stock_df['Bollinger_Lower'], linestyle='--', label='Bollinger Lower')\n",
    "    plt.title(f\"{symbol} Price Trend\")\n",
    "    plt.xlabel(\"Date\")\n",
    "    plt.ylabel(\"Price\")\n",
    "    plt.legend()\n",
    "    plt.grid(True)\n",
    "    plt.tight_layout()\n",
    "    plt.show()\n",
    "\n",
    "plot_stock_trend(df, \"RELIANCE\")\n"
   ]
  },
  {
   "cell_type": "markdown",
   "id": "8b123de5",
   "metadata": {},
   "source": [
    "## 📊 Volume and Volatility Analysis"
   ]
  },
  {
   "cell_type": "code",
   "execution_count": null,
   "id": "38a3696d",
   "metadata": {},
   "outputs": [],
   "source": [
    "# Top traded stocks\n",
    "top_volume = df.groupby('Symbol')['Volume'].sum().sort_values(ascending=False).head(10)\n",
    "print(\"Top 10 Traded Stocks by Volume:\")\n",
    "print(top_volume)\n",
    "\n",
    "# Yearly volatility for RELIANCE\n",
    "df['Returns'] = df.groupby('Symbol')['Close'].pct_change()\n",
    "df['Year'] = df['Date'].dt.year\n",
    "reliance_vol = df[df['Symbol'] == 'RELIANCE'].groupby('Year')['Returns'].std()\n",
    "\n",
    "plt.figure(figsize=(12,5))\n",
    "sns.barplot(x=reliance_vol.index, y=reliance_vol.values)\n",
    "plt.title(\"Yearly Volatility of RELIANCE\")\n",
    "plt.ylabel(\"Volatility (Standard Deviation)\")\n",
    "plt.xticks(rotation=45)\n",
    "plt.tight_layout()\n",
    "plt.show()\n"
   ]
  }
 ],
 "metadata": {},
 "nbformat": 4,
 "nbformat_minor": 5
}
